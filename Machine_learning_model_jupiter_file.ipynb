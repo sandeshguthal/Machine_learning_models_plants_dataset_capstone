{
  "nbformat": 4,
  "nbformat_minor": 0,
  "metadata": {
    "colab": {
      "name": "MTX intern challenge Sandesh Guthal.ipynb",
      "provenance": [],
      "collapsed_sections": [],
      "machine_shape": "hm"
    },
    "kernelspec": {
      "name": "python3",
      "display_name": "Python 3"
    }
  },
  "cells": [
    {
      "cell_type": "code",
      "metadata": {
        "id": "KZR24pWq0rFT",
        "outputId": "55e91606-5179-4d3b-f72b-29dc9b6578bd",
        "colab": {
          "base_uri": "https://localhost:8080/",
          "height": 71
        }
      },
      "source": [
        "import numpy as np \n",
        "import matplotlib.pyplot as plt \n",
        "import pandas as pd\n",
        "from google.colab import files\n",
        "import seaborn as sns\n",
        "from sklearn.metrics import confusion_matrix\n",
        "from sklearn.model_selection import cross_val_score\n",
        "from scipy import stats\n",
        "from sklearn.metrics import precision_score\n",
        "from sklearn.metrics import multilabel_confusion_matrix\n",
        "from sklearn.metrics import recall_score\n",
        "from sklearn.metrics import f1_score\n",
        "from sklearn.metrics import accuracy_score\n",
        "import time\n",
        "from sklearn.model_selection import StratifiedKFold"
      ],
      "execution_count": null,
      "outputs": [
        {
          "output_type": "stream",
          "text": [
            "/usr/local/lib/python3.6/dist-packages/statsmodels/tools/_testing.py:19: FutureWarning: pandas.util.testing is deprecated. Use the functions in the public API at pandas.testing instead.\n",
            "  import pandas.util.testing as tm\n"
          ],
          "name": "stderr"
        }
      ]
    },
    {
      "cell_type": "code",
      "metadata": {
        "id": "rC1lPDCzqKJh",
        "outputId": "5ecf7ed7-ae20-4be4-e0d7-70d0b9a1f4f2",
        "colab": {
          "resources": {
            "http://localhost:8080/nbextensions/google.colab/files.js": {
              "data": "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",
              "ok": true,
              "headers": [
                [
                  "content-type",
                  "application/javascript"
                ]
              ],
              "status": 200,
              "status_text": ""
            }
          },
          "base_uri": "https://localhost:8080/",
          "height": 74
        }
      },
      "source": [
        "uploaded = files.upload()\n",
        "#download capstone_train.csv from kaggle, so we can import them locally. Its plants data with 13 columns\n",
        "#Heigh_From_Sea_Level, Aspect, Slope, Distance_To_Water_Source, Standing_Distance_To_Water_Source, Distance_To_Road, Shadow_In_Morning, \n",
        "#Shadow_In_Midday, Shadow_In_Evening, Distance_To_Fire, Turf, Neighbourhood_Type, Plant_Type"
      ],
      "execution_count": null,
      "outputs": [
        {
          "output_type": "display_data",
          "data": {
            "text/html": [
              "\n",
              "     <input type=\"file\" id=\"files-2d741bc0-2fcd-4249-bf68-ed6c281dd682\" name=\"files[]\" multiple disabled />\n",
              "     <output id=\"result-2d741bc0-2fcd-4249-bf68-ed6c281dd682\">\n",
              "      Upload widget is only available when the cell has been executed in the\n",
              "      current browser session. Please rerun this cell to enable.\n",
              "      </output>\n",
              "      <script src=\"/nbextensions/google.colab/files.js\"></script> "
            ],
            "text/plain": [
              "<IPython.core.display.HTML object>"
            ]
          },
          "metadata": {
            "tags": []
          }
        },
        {
          "output_type": "stream",
          "text": [
            "Saving capstone_train.csv to capstone_train.csv\n"
          ],
          "name": "stdout"
        }
      ]
    },
    {
      "cell_type": "code",
      "metadata": {
        "id": "fhw2yHlFoXhQ"
      },
      "source": [
        "data = pd.read_csv('capstone_train.csv')\n",
        "# Copying dataframe for key insights\n",
        "data1 = data"
      ],
      "execution_count": null,
      "outputs": []
    },
    {
      "cell_type": "code",
      "metadata": {
        "id": "71qIqGpJd56k"
      },
      "source": [
        "#Exploratory Data Analysis"
      ],
      "execution_count": null,
      "outputs": []
    },
    {
      "cell_type": "code",
      "metadata": {
        "id": "kwIH_7vvomac",
        "outputId": "8835662a-62c4-4d5f-a88b-b2c22c034236",
        "colab": {
          "base_uri": "https://localhost:8080/",
          "height": 1000
        }
      },
      "source": [
        "plt.figure(figsize=(12,4))\n",
        "sns.boxplot(x = 'Heigh_From_Sea_Level',y = 'Plant_Type', data=data)\n",
        "plt.show()\n",
        "print(\"\"\"As we can see from the boxplot outliers are present but the varition of values are distinguishable\n",
        "and hence very useful in training the dataset\"\"\")\n",
        "plt.figure(figsize=(12,4))\n",
        "sns.boxplot(x = 'Aspect',y = 'Plant_Type', data=data)\n",
        "plt.show()\n",
        "plt.figure(figsize=(12,4))\n",
        "sns.boxplot(x = 'Slope',y = 'Plant_Type', data=data)\n",
        "plt.show()\n",
        "print(\"\"\"Slope and Aspect Values are very closely put which would not help with improving the performance of the classifier\"\"\")\n",
        "plt.figure(figsize=(12,4))\n",
        "sns.boxplot(x = 'Shadow_In_Morning',y = 'Plant_Type', data=data)\n",
        "plt.show()\n",
        "plt.figure(figsize=(12,4))\n",
        "sns.boxplot(x = 'Shadow_In_Midday',y = 'Plant_Type', data=data)\n",
        "plt.show()\n",
        "plt.figure(figsize=(12,4))\n",
        "print(\"\"\"At first it seems like the data would make use of the shadow for example a plant in the morning might face the sun and as the day goes on\n",
        "it might follow the sun or it might steer away from the sun, but in each condition the shadow might be effected. In this situation choosing these columns\n",
        "will add redundant data as this these columns have few diparity between them and it's better to have the classifier to have a higher bias over other columns in classification \"\"\")\n",
        "plt.figure(figsize=(12,4))\n",
        "sns.boxplot(x = 'Turf',y = 'Plant_Type', data=data)\n",
        "plt.show()\n",
        "print(\"Turf is also a very important column for the classifier\")"
      ],
      "execution_count": null,
      "outputs": [
        {
          "output_type": "display_data",
          "data": {
            "image/png": "[encoded data removed]",
            "text/plain": [
              "<Figure size 864x288 with 1 Axes>"
            ]
          },
          "metadata": {
            "tags": [],
            "needs_background": "light"
          }
        },
        {
          "output_type": "stream",
          "text": [
            "As we can see from the boxplot outliers are present but the varition of values are distinguishable\n",
            "and hence very useful in training the dataset\n"
          ],
          "name": "stdout"
        },
        {
          "output_type": "display_data",
          "data": {
            "image/png": "[encoded data removed]",
            "text/plain": [
              "<Figure size 864x288 with 1 Axes>"
            ]
          },
          "metadata": {
            "tags": [],
            "needs_background": "light"
          }
        },
        {
          "output_type": "display_data",
          "data": {
            "image/png": "[encoded data removed]",
            "text/plain": [
              "<Figure size 864x288 with 1 Axes>"
            ]
          },
          "metadata": {
            "tags": [],
            "needs_background": "light"
          }
        },
        {
          "output_type": "stream",
          "text": [
            "Slope and Aspect Values are very closely put which would not help with improving the performance of the classifier\n"
          ],
          "name": "stdout"
        },
        {
          "output_type": "display_data",
          "data": {
            "image/png": "[encoded data removed]",
            "text/plain": [
              "<Figure size 864x288 with 1 Axes>"
            ]
          },
          "metadata": {
            "tags": [],
            "needs_background": "light"
          }
        },
        {
          "output_type": "display_data",
          "data": {
            "image/png": "[encoded data removed]",
            "text/plain": [
              "<Figure size 864x288 with 1 Axes>"
            ]
          },
          "metadata": {
            "tags": [],
            "needs_background": "light"
          }
        },
        {
          "output_type": "stream",
          "text": [
            "At first it seems like the data would make use of the shadow for example a plant in the morning might face the sun and as the day goes on\n",
            "it might follow the sun or it might steer away from the sun, but in each condition the shadow might be effected. In this situation choosing these columns\n",
            "will add redundant data as this these columns have few diparity between them and it's better to have the classifier to have a higher bias over other columns in classification \n"
          ],
          "name": "stdout"
        },
        {
          "output_type": "display_data",
          "data": {
            "text/plain": [
              "<Figure size 864x288 with 0 Axes>"
            ]
          },
          "metadata": {
            "tags": []
          }
        },
        {
          "output_type": "display_data",
          "data": {
            "image/png": "[encoded data removed]",
            "text/plain": [
              "<Figure size 864x288 with 1 Axes>"
            ]
          },
          "metadata": {
            "tags": [],
            "needs_background": "light"
          }
        },
        {
          "output_type": "stream",
          "text": [
            "Turf is also a very important column for the classifier\n"
          ],
          "name": "stdout"
        }
      ]
    },
    {
      "cell_type": "code",
      "metadata": {
        "id": "jAYK0_oJojSg"
      },
      "source": [
        "#removing columns which does not affect data classification\n",
        "data.drop('Aspect', axis=1, inplace=True)\n",
        "data.drop('Slope', axis=1, inplace=True)\n",
        "data.drop('Shadow_In_Morning', axis=1, inplace=True)\n",
        "data.drop('Shadow_In_Midday', axis=1, inplace=True)\n",
        "x = data.iloc[:, :-1].values\n",
        "y = data.iloc[:, -1].values"
      ],
      "execution_count": null,
      "outputs": []
    },
    {
      "cell_type": "code",
      "metadata": {
        "id": "YWQUs_ded-uZ"
      },
      "source": [
        "#Data Preprocessing and handling outliers "
      ],
      "execution_count": null,
      "outputs": []
    },
    {
      "cell_type": "code",
      "metadata": {
        "id": "f_il11cwmTY3"
      },
      "source": [
        "#substituting all missing values with mean values\n",
        "from sklearn.impute import SimpleImputer\n",
        "imputer = SimpleImputer(missing_values=np.nan, strategy='mean')\n",
        "imputer.fit(x[:,:])\n",
        "x[:,:] = imputer.transform(x[:,:])"
      ],
      "execution_count": null,
      "outputs": []
    },
    {
      "cell_type": "code",
      "metadata": {
        "id": "nVSvc001mJ5G",
        "outputId": "033ec7db-a83d-457b-f1f7-e2c3e9a685db",
        "colab": {
          "base_uri": "https://localhost:8080/",
          "height": 136
        }
      },
      "source": [
        "#removing outliers above z score of 3\n",
        "z = np.abs(stats.zscore(x))\n",
        "print(z)\n",
        "x = x[(z < 3).all(axis=1)]\n",
        "y = y[(z < 3).all(axis=1)]"
      ],
      "execution_count": null,
      "outputs": [
        {
          "output_type": "stream",
          "text": [
            "[[0.08762888 0.16614305 0.26801787 ... 0.58140273 0.48840544 1.04949131]\n",
            " [0.21987495 1.69816543 5.59074247 ... 0.34820659 1.19955476 0.83543396]\n",
            " [1.42081221 1.64167124 1.79615493 ... 0.0863767  0.80489798 0.83543396]\n",
            " ...\n",
            " [0.69882016 0.20577708 0.07538372 ... 0.9994251  0.48840544 1.04949131]\n",
            " [0.52356241 0.32150209 0.41878531 ... 0.12867092 0.1719129  0.83543396]\n",
            " [0.66295691 0.94490948 0.14406404 ... 0.9005394  1.19955476 0.83543396]]\n"
          ],
          "name": "stdout"
        }
      ]
    },
    {
      "cell_type": "code",
      "metadata": {
        "id": "0hBjJgzJkRfX",
        "outputId": "b2058bb9-4cc4-48d0-b917-37503d588908",
        "colab": {
          "base_uri": "https://localhost:8080/",
          "height": 51
        }
      },
      "source": [
        "print(\"dependent values number is equal to \",y.shape)\n",
        "print(\"independent values number is equal to \",x.shape)"
      ],
      "execution_count": null,
      "outputs": [
        {
          "output_type": "stream",
          "text": [
            "dependent values number is equal to  (437733,)\n",
            "independent values number is equal to  (437733, 8)\n"
          ],
          "name": "stdout"
        }
      ]
    },
    {
      "cell_type": "code",
      "metadata": {
        "id": "LvA9AgNBHBN8"
      },
      "source": [
        "#Test train split 80 20\n",
        "from sklearn.model_selection import train_test_split\n",
        "xtrain,xtest,ytrain,ytest = train_test_split(x,y,test_size=0.20,random_state = 0)"
      ],
      "execution_count": null,
      "outputs": []
    },
    {
      "cell_type": "code",
      "metadata": {
        "id": "fsMykKereHPv"
      },
      "source": [
        "#Classification Model Predictions"
      ],
      "execution_count": null,
      "outputs": []
    },
    {
      "cell_type": "code",
      "metadata": {
        "id": "MQvJ277z3DXe"
      },
      "source": [
        "from sklearn.neighbors import KNeighborsClassifier\n",
        "start = time.time()\n",
        "knnclassifier = KNeighborsClassifier(n_neighbors = 3, metric = 'minkowski', p = 1,n_jobs = -1)\n",
        "knnclassifier.fit(xtrain,ytrain)\n",
        "end = time.time()\n",
        "train = end-start\n"
      ],
      "execution_count": null,
      "outputs": []
    },
    {
      "cell_type": "code",
      "metadata": {
        "id": "lar31tVubQS-"
      },
      "source": [
        "#n_neighbors gives the number of neighbors to choose from, where the default is set to 5.\n",
        "#P values 1 and 2 states Manhattan and Euclidean Distances Respectively. \n",
        "#n_jobs just makes use of all the processors and useful for large amount of dataset.\n",
        "#I ran a grid search algorithm for the parameters to find the optimal values.\n"
      ],
      "execution_count": null,
      "outputs": []
    },
    {
      "cell_type": "code",
      "metadata": {
        "id": "hgj4tncTroBP"
      },
      "source": [
        "start = time.time()\n",
        "knny_pred = knnclassifier.predict(xtest)\n",
        "end = time.time()\n",
        "test = end-start\n"
      ],
      "execution_count": null,
      "outputs": []
    },
    {
      "cell_type": "code",
      "metadata": {
        "id": "F2GUHzNAa-Aa"
      },
      "source": [
        "#Precision: True positives/True positives + False Positives. \n",
        "#Using the confusion matrix for correct class predictions for each class and\n",
        "#then average precision for all the classes gives the precision. It gives the percentage\n",
        "#of results that are useful or relevant.\n",
        "#Recall: True Positives/ True Positives + False Negatives. Also calculated from the confusion \n",
        "#matrix gives the percentage of total results classified by model correctly."
      ],
      "execution_count": null,
      "outputs": []
    },
    {
      "cell_type": "code",
      "metadata": {
        "id": "07OBMU9Ejf6U",
        "outputId": "af87ba02-b2a4-4262-82ca-32831137d8c0",
        "colab": {
          "base_uri": "https://localhost:8080/",
          "height": 136
        }
      },
      "source": [
        "#Performance metrics of Knn\n",
        "#knncm = confusion_matrix(ytest,knny_pred)\n",
        "#print(knncm)\n",
        "#multilabel_confusion_matrix(ytest, y_pred,labels=[\"Ascomoid\", \"Assassin vine\", \"Basidirond\",\"Dark tree\",\"Hangman tree\",\"Kelpie\",\"Myconid\"])\n",
        "score = knnclassifier.score(xtest, ytest)\n",
        "print(\"\")\n",
        "print(\"the score of Knn classifier is \",score*100)\n",
        "knnprecision = precision_score(ytest, knny_pred, average='macro')\n",
        "print(\"the precision score of using Knn is \",knnprecision)\n",
        "knn_recall = recall_score(ytest, knny_pred, average='macro')\n",
        "print(\"the recall for knn is \",knn_recall)\n",
        "knn_accuracy = accuracy_score(ytest, knny_pred)\n",
        "print(\"the accuracy of Knn is \",knn_accuracy)\n",
        "knn_f1_score = f1_score(ytest, knny_pred, average='macro')\n",
        "print(\"the f1 score is \",knn_f1_score)\n",
        "print(\"train time = \",train,\"test time = \",test)\n",
        "#Storing values for comparision\n",
        "knna = knn_accuracy\n",
        "knnf = knn_f1_score\n",
        "knntr = train\n",
        "knnte = test"
      ],
      "execution_count": null,
      "outputs": [
        {
          "output_type": "stream",
          "text": [
            "\n",
            "the score of Knn classifier is  96.33568254766011\n",
            "the precision score of using Knn is  0.9395598418464616\n",
            "the recall for knn is  0.9213463615857626\n",
            "the accuracy of Knn is  0.9633568254766012\n",
            "the f1 score is  0.9300047157527098\n",
            "train time =  1.2060887813568115 test time =  3.2413177490234375\n"
          ],
          "name": "stdout"
        }
      ]
    },
    {
      "cell_type": "code",
      "metadata": {
        "id": "Q2u3fqpsn5Vl",
        "outputId": "b7f1d184-ee5e-4647-b6bd-6b9ebf5c06e2",
        "colab": {
          "base_uri": "https://localhost:8080/",
          "height": 34
        }
      },
      "source": [
        "#k-fold cross validation for Knn classifier\n",
        "accuracies = cross_val_score(estimator = knnclassifier, X = xtrain, y = ytrain, cv = 10, n_jobs = -1)\n",
        "accuracies.mean()"
      ],
      "execution_count": null,
      "outputs": [
        {
          "output_type": "execute_result",
          "data": {
            "text/plain": [
              "0.9610349948634151"
            ]
          },
          "metadata": {
            "tags": []
          },
          "execution_count": 15
        }
      ]
    },
    {
      "cell_type": "code",
      "metadata": {
        "id": "tmOGiMfjcTAi",
        "outputId": "71af0c51-5fc6-4871-a5ab-85155aeb6b93",
        "colab": {
          "base_uri": "https://localhost:8080/",
          "height": 51
        }
      },
      "source": [
        "from sklearn.model_selection import GridSearchCV\n",
        "parameters = [{'algorithm':['auto'],'metric':['minkowski'],'n_neighbors':[3,5],'p':[1]}]#tried varius values for p neighbours, removed them to decrease running time\n",
        "grid_search = GridSearchCV(estimator= knnclassifier,param_grid=parameters,scoring='accuracy',cv = 10,n_jobs=-1)\n",
        "grid_search = grid_search.fit(xtrain,ytrain)\n",
        "best_accuracy = grid_search.best_score_\n",
        "print(best_accuracy)\n",
        "best_parameters = grid_search.best_params_\n",
        "print(best_parameters)"
      ],
      "execution_count": null,
      "outputs": [
        {
          "output_type": "stream",
          "text": [
            "0.9610349948634151\n",
            "{'algorithm': 'auto', 'metric': 'minkowski', 'n_neighbors': 3, 'p': 1}\n"
          ],
          "name": "stdout"
        }
      ]
    },
    {
      "cell_type": "code",
      "metadata": {
        "id": "nW8_Ob--rRhP"
      },
      "source": [
        "#Scaling the dataset\n",
        "from sklearn.preprocessing import StandardScaler\n",
        "sc = StandardScaler()\n",
        "xtrain = sc.fit_transform(xtrain)\n",
        "xtest = sc.transform(xtest)"
      ],
      "execution_count": null,
      "outputs": []
    },
    {
      "cell_type": "code",
      "metadata": {
        "id": "YPvQlKzrAv_-"
      },
      "source": [
        "# Decision Tree Classifier\n",
        "from sklearn.tree import DecisionTreeClassifier\n",
        "start = time.time()\n",
        "classifier = DecisionTreeClassifier(criterion = 'entropy',random_state=0,splitter = 'best',max_features=7)\n",
        "classifier.fit(xtrain,ytrain)\n",
        "end = time.time()\n",
        "train = end-start\n"
      ],
      "execution_count": null,
      "outputs": []
    },
    {
      "cell_type": "code",
      "metadata": {
        "id": "fOTijmFobaxk"
      },
      "source": [
        "#Criterion is defaulted to ‘gini’ gives the measure of quality of split. \n",
        "#random state keeps the classifier at the same classification so with each time we\n",
        "#run with the same parameters we get the same values and useful for testing various parameters\n",
        "#selections for a model and max features are useful for finding the best split."
      ],
      "execution_count": null,
      "outputs": []
    },
    {
      "cell_type": "code",
      "metadata": {
        "id": "RHd5VyXGsElz"
      },
      "source": [
        "start = time.time()\n",
        "y_pred = classifier.predict(xtest)\n",
        "end = time.time()\n",
        "test = end-start"
      ],
      "execution_count": null,
      "outputs": []
    },
    {
      "cell_type": "code",
      "metadata": {
        "id": "mqjzBbHskJ61",
        "outputId": "ca8e7229-88be-42b7-a100-6db32d47dc86",
        "colab": {
          "base_uri": "https://localhost:8080/",
          "height": 136
        }
      },
      "source": [
        "#performance metrics of Decision Tree classifier \n",
        "score = classifier.score(xtest, ytest)\n",
        "#cm = confusion_matrix(ytest,y_pred)\n",
        "print(\"Decision tree classifier\")\n",
        "print(\"the score of decision tree classifier is \",score*100)\n",
        "decprecision = precision_score(ytest, y_pred, average='macro')\n",
        "print(\"the precision score of using decision tree is \",decprecision)\n",
        "dec_recall = recall_score(ytest, y_pred, average='macro')\n",
        "print(\"the recall for decision tree is \",dec_recall)\n",
        "decaccuracy = accuracy_score(ytest, y_pred)\n",
        "print(\"the accuracy of Decision Trees are \",decaccuracy)\n",
        "dec_f1_score = f1_score(ytest, y_pred, average='macro')\n",
        "print(\"the f1 score is \",dec_f1_score)\n",
        "print(\"train time = \",train,\"test time = \",test)\n",
        "dta = decaccuracy\n",
        "df = dec_f1_score\n",
        "dtr = train\n",
        "dte = test"
      ],
      "execution_count": null,
      "outputs": [
        {
          "output_type": "stream",
          "text": [
            "Decision tree classifier\n",
            "the score of decision tree classifier is  94.22710087153186\n",
            "the precision score of using decision tree is  0.9007673028393643\n",
            "the recall for decision tree is  0.892186203562603\n",
            "the accuracy of Decision Trees are  0.9422710087153187\n",
            "the f1 score is  0.8964065992469274\n",
            "train time =  3.5745506286621094 test time =  0.028425216674804688\n"
          ],
          "name": "stdout"
        }
      ]
    },
    {
      "cell_type": "code",
      "metadata": {
        "id": "zjjwr32l9yYY",
        "outputId": "35294ec4-d7f7-43c3-9ba2-2fe546fba805",
        "colab": {
          "base_uri": "https://localhost:8080/",
          "height": 34
        }
      },
      "source": [
        "#k-fold cross validation for decision tree\n",
        "accuracies = cross_val_score(estimator = classifier, X = xtrain, y = ytrain, cv = 10, n_jobs = -1)\n",
        "accuracies.mean()"
      ],
      "execution_count": null,
      "outputs": [
        {
          "output_type": "execute_result",
          "data": {
            "text/plain": [
              "0.9381700071727093"
            ]
          },
          "metadata": {
            "tags": []
          },
          "execution_count": 23
        }
      ]
    },
    {
      "cell_type": "code",
      "metadata": {
        "id": "7wD8sOclwEIB"
      },
      "source": [
        "#Random forest classifier \n",
        "from sklearn.ensemble import RandomForestClassifier\n",
        "start = time.time()\n",
        "randclassifier = RandomForestClassifier(n_estimators = 30,random_state=0,verbose=0,criterion='entropy',max_features=5)\n",
        "randclassifier.fit(xtrain,ytrain)\n",
        "end = time.time()\n",
        "train = end-start"
      ],
      "execution_count": null,
      "outputs": []
    },
    {
      "cell_type": "code",
      "metadata": {
        "id": "sQezcYC_sBAi"
      },
      "source": [
        "start = time.time()\n",
        "randy_pred = randclassifier.predict(xtest)\n",
        "end = time.time()\n",
        "test = end-start"
      ],
      "execution_count": null,
      "outputs": []
    },
    {
      "cell_type": "code",
      "metadata": {
        "id": "iJhcdEnJxike",
        "outputId": "daf64fe9-a310-42f1-ce95-b309542a79e3",
        "colab": {
          "base_uri": "https://localhost:8080/",
          "height": 136
        }
      },
      "source": [
        "#performance metrics of Random forest classifier \n",
        "score = randclassifier.score(xtest, ytest)\n",
        "#cm = confusion_matrix(ytest,y_pred)\n",
        "print(\"Random forest\")\n",
        "print(\"the score of Random forest classifier is \",score*100)\n",
        "randprecision = precision_score(ytest, randy_pred, average='macro')\n",
        "print(\"the precision score of using Random forest is \",randprecision)\n",
        "rand_recall = recall_score(ytest, randy_pred, average='macro')\n",
        "print(\"the recall for Random forest is \",rand_recall)\n",
        "randaccuracy = accuracy_score(ytest,randy_pred)\n",
        "print(\"the accuracy is equal to \",randaccuracy)\n",
        "rand_f1_score = f1_score(ytest, randy_pred, average='macro')\n",
        "print(\"the f1 score is \",rand_f1_score)\n",
        "print(\"train time = \",train,\"test time = \",test)\n",
        "rfa = randaccuracy\n",
        "rff = rand_f1_score\n",
        "rftr = train\n",
        "rfte = test"
      ],
      "execution_count": null,
      "outputs": [
        {
          "output_type": "stream",
          "text": [
            "Random forest\n",
            "the score of Random forest classifier is  96.66579094657727\n",
            "the precision score of using Random forest is  0.9526001199442515\n",
            "the recall for Random forest is  0.9220873189994138\n",
            "the accuracy is equal to  0.9666579094657727\n",
            "the f1 score is  0.9365954409764417\n",
            "train time =  50.288947343826294 test time =  0.6952335834503174\n"
          ],
          "name": "stdout"
        }
      ]
    },
    {
      "cell_type": "code",
      "metadata": {
        "id": "Md8mNheR1nY4",
        "outputId": "2ffea953-7fca-472e-c05c-55f8149d3909",
        "colab": {
          "base_uri": "https://localhost:8080/",
          "height": 105
        }
      },
      "source": [
        "#changed n_estimators to 10 to get the max_features value faster then changed back the n_estimators to 30 and so with the max features\n",
        "parameters = [{'n_estimators':[10],'random_state':[0],'criterion':['entropy'],'max_features':[1,5]}]\n",
        "grid_search = GridSearchCV(estimator= randclassifier,param_grid=parameters,scoring='accuracy',cv = 10,n_jobs=-1)\n",
        "grid_search = grid_search.fit(xtrain,ytrain)\n",
        "best_accuracy = grid_search.best_score_\n",
        "print(best_accuracy)\n",
        "best_parameters = grid_search.best_params_\n",
        "print(best_parameters)"
      ],
      "execution_count": null,
      "outputs": [
        {
          "output_type": "stream",
          "text": [
            "/usr/local/lib/python3.6/dist-packages/joblib/externals/loky/process_executor.py:706: UserWarning: A worker stopped while some jobs were given to the executor. This can be caused by a too short worker timeout or by a memory leak.\n",
            "  \"timeout or by a memory leak.\", UserWarning\n"
          ],
          "name": "stderr"
        },
        {
          "output_type": "stream",
          "text": [
            "0.9599184496453873\n",
            "{'criterion': 'entropy', 'max_features': 5, 'n_estimators': 10, 'random_state': 0}\n"
          ],
          "name": "stdout"
        }
      ]
    },
    {
      "cell_type": "code",
      "metadata": {
        "id": "XFpFGyFueS2b"
      },
      "source": [
        "#Comparison of model using performance KPIs, Training & Testing Time"
      ],
      "execution_count": null,
      "outputs": []
    },
    {
      "cell_type": "code",
      "metadata": {
        "id": "mrgFTHZKaonO"
      },
      "source": [
        "#F1 Score: 2 * (precision*recall) / (precision+recall), \n",
        "#and the main use for this KPI is test accuracy or rather in a realistic\n",
        "#situation giving the performance using F1 score.\n",
        "#Accuracy: It is used to calculate correct by total predictions.\n",
        "#Just telling us how well the model performed for the given dataset"
      ],
      "execution_count": null,
      "outputs": []
    },
    {
      "cell_type": "code",
      "metadata": {
        "id": "pNMdABL2VnmG",
        "outputId": "e4295cd6-cad3-49ba-cad9-309031356e95",
        "colab": {
          "base_uri": "https://localhost:8080/",
          "height": 122
        }
      },
      "source": [
        "print(\"Different Models Comparisions\")\n",
        "print(\"Classifier\",\"\\t\"*4,\"Accuracy\",\"\\t\"*4,\"F1 score\",\"\\t\"*4,\"Train time\",\"\\t\"*4,\"Testtime\")\n",
        "print(\"KNN \",\"\\t\"*5,knna,\"\\t\"*3,knnf,\"\\t\"*3,knntr,\"\\t\"*3,knnte)\n",
        "print(\"Decision Tree \",\"\\t\"*4,dta,\"\\t\"*3,df,\"\\t\"*3,dtr,\"\\t\"*3,dte)\n",
        "print(\"Random Forest \",\"\\t\"*4,rfa,\"\\t\"*3,rff,\"\\t\"*3,rftr,\"\\t\"*3,rfte)"
      ],
      "execution_count": null,
      "outputs": [
        {
          "output_type": "stream",
          "text": [
            "Different Models Comparisions\n",
            "Classifier \t\t\t\t Accuracy \t\t\t\t F1 score \t\t\t\t Train time \t\t\t\t Testtime\n",
            "KNN  \t\t\t\t\t 0.9633568254766012 \t\t\t 0.9300047157527098 \t\t\t 1.2060887813568115 \t\t\t 3.2413177490234375\n",
            "Decision Tree  \t\t\t\t 0.9422710087153187 \t\t\t 0.8964065992469274 \t\t\t 3.5745506286621094 \t\t\t 0.028425216674804688\n",
            "Random Forest  \t\t\t\t 0.9666579094657727 \t\t\t 0.9365954409764417 \t\t\t 50.288947343826294 \t\t\t 0.6952335834503174\n"
          ],
          "name": "stdout"
        }
      ]
    },
    {
      "cell_type": "code",
      "metadata": {
        "id": "6qRyXZpUeYLZ"
      },
      "source": [
        "#Final predictive model recommendation\n",
        "# After Running the algorithm for various Models, we can see that the KNN and\n",
        "# the Random Forest classifier performed the best among the three models.\n",
        "# Where Random Forest classifier just beating the KNN. \n",
        "# For multiclass problems, the Random forest classifier is supposed to perform better than most\n",
        "# classifiers and here too we can see a similar trend. But for this high performance of the model\n",
        "# for this dataset, the time taken is a bit too much. When we compare the two models we can only\n",
        "# see only half to a 1 percent increase In performance. While the time consumed is exponentially\n",
        "# higher than the KNN model. For most cases it is better to use the KNN model and hence it is to\n",
        "# be chosen as the best model. But, in those special cases where accuracy is highest priority then\n",
        "# going towards the Random Forest classifier would work better\n",
        "# I have also used the Stratified K fold to distribute the training and testing with equal\n",
        "# class distribution but I after trying for various values I found the regular test train split performed\n",
        "# a better training than the distributed testing and training."
      ],
      "execution_count": null,
      "outputs": []
    },
    {
      "cell_type": "code",
      "metadata": {
        "id": "ykvsa-gbGU3_"
      },
      "source": [
        "# used to get the histogram plot, commented to reduce runtime\n",
        "# import seaborn as sns\n",
        "# sns.pairplot(data, height = 5.0,hue ='Plant_Type')\n",
        "# plt.title('Histogram of all the data')\n",
        "# plt.show()"
      ],
      "execution_count": null,
      "outputs": []
    },
    {
      "cell_type": "code",
      "metadata": {
        "id": "xU-UnwL-MWSA"
      },
      "source": [
        "## Imputing Shadow in Midday missing values with the value 0 because we would normally expect sunlight to be the highest during midday. Hence shadow would be minimum.\n",
        "data1['Shadow_In_Midday'] = np.where(data1['Shadow_In_Midday'].isnull(),0,data1['Shadow_In_Midday'])"
      ],
      "execution_count": null,
      "outputs": []
    },
    {
      "cell_type": "code",
      "metadata": {
        "id": "U3l-qw8II8u3"
      },
      "source": [
        "# Key insights\n",
        "# Create new column from totals of all shadow variable\n",
        "data1['final_shadow_var'] = data1['Shadow_In_Morning'] + data1['Shadow_In_Midday'] + data1['Shadow_In_Evening']\n",
        "data1['final_water_source'] = data1['Distance_To_Water_Source'] + data1['Standing_Distance_To_Water_Source'] "
      ],
      "execution_count": null,
      "outputs": []
    },
    {
      "cell_type": "code",
      "metadata": {
        "id": "1srbMG3dNYkz"
      },
      "source": [
        "avg_shadow_val = data1['final_shadow_var'].mean()\n",
        "avg_distance_water_source_val = data1['final_water_source'].mean()"
      ],
      "execution_count": null,
      "outputs": []
    },
    {
      "cell_type": "code",
      "metadata": {
        "id": "0_BwrDZGNrGG"
      },
      "source": [
        "from collections import Counter\n",
        "shadow_less_water_less = Counter(data1[(data1['final_shadow_var'] <= avg_shadow_val) & (data1['final_water_source'] <= avg_distance_water_source_val)  ].Plant_Type)\n",
        "\n",
        "shadow_more_water_less = Counter(data1[(data1['final_shadow_var'] > avg_shadow_val) & (data1['final_water_source'] <= avg_distance_water_source_val)  ].Plant_Type)\n",
        "\n",
        "shadow_less_water_more = Counter(data1[(data1['final_shadow_var'] <= avg_shadow_val) & (data1['final_water_source'] > avg_distance_water_source_val)  ].Plant_Type)\n",
        "\n",
        "shadow_more_water_more = Counter(data1[(data1['final_shadow_var'] > avg_shadow_val) & (data1['final_water_source'] > avg_distance_water_source_val)  ].Plant_Type)"
      ],
      "execution_count": null,
      "outputs": []
    },
    {
      "cell_type": "code",
      "metadata": {
        "id": "tdbN39piRsTy",
        "outputId": "c82a3179-e8ef-466c-c779-33e2c1d63de8",
        "colab": {
          "base_uri": "https://localhost:8080/",
          "height": 105
        }
      },
      "source": [
        "print(shadow_less_water_less)\n",
        "print(shadow_more_water_less)\n",
        "print(shadow_less_water_more)\n",
        "print(shadow_more_water_more)"
      ],
      "execution_count": null,
      "outputs": [
        {
          "output_type": "stream",
          "text": [
            "Counter({'Assassin vine': 37125, 'Ascomoid': 27790, 'Basidirond': 7817, 'Kelpie': 4989, 'Myconid:': 2570, 'Hangman tree': 1931, 'Dark tree': 716})\n",
            "Counter({'Assassin vine': 91331, 'Ascomoid': 71735, 'Basidirond': 10109, 'Kelpie': 5615, 'Myconid:': 5216, 'Hangman tree': 3076, 'Dark tree': 977})\n",
            "Counter({'Assassin vine': 28149, 'Ascomoid': 22244, 'Basidirond': 4298, 'Myconid:': 2617, 'Kelpie': 1358, 'Hangman tree': 1086, 'Dark tree': 267})\n",
            "Counter({'Assassin vine': 70100, 'Ascomoid': 47718, 'Basidirond': 6264, 'Myconid:': 6013, 'Kelpie': 1969, 'Hangman tree': 1505, 'Dark tree': 224})\n"
          ],
          "name": "stdout"
        }
      ]
    },
    {
      "cell_type": "code",
      "metadata": {
        "id": "w5wGag1DQhAL",
        "outputId": "2e0baa2e-4e8c-4d27-f38e-19607b54a2df",
        "colab": {
          "base_uri": "https://localhost:8080/",
          "height": 136
        }
      },
      "source": [
        "Counter(data1.Plant_Type)"
      ],
      "execution_count": null,
      "outputs": [
        {
          "output_type": "execute_result",
          "data": {
            "text/plain": [
              "Counter({'Ascomoid': 169487,\n",
              "         'Assassin vine': 226705,\n",
              "         'Basidirond': 28488,\n",
              "         'Dark tree': 2184,\n",
              "         'Hangman tree': 7598,\n",
              "         'Kelpie': 13931,\n",
              "         'Myconid:': 16416})"
            ]
          },
          "metadata": {
            "tags": []
          },
          "execution_count": 8
        }
      ]
    },
    {
      "cell_type": "code",
      "metadata": {
        "id": "Ij5ZEf8iRIcN"
      },
      "source": [
        "data1[(data1['final_shadow_var'] > avg_shadow_val) & (data1['Distance_To_Water_Source'] <= avg_distance_water_source_val)  ].shape"
      ],
      "execution_count": null,
      "outputs": []
    },
    {
      "cell_type": "code",
      "metadata": {
        "id": "WXw1Y-1BRL9W"
      },
      "source": [
        "data1.shape"
      ],
      "execution_count": null,
      "outputs": []
    },
    {
      "cell_type": "code",
      "metadata": {
        "id": "SPW2egv2ufqq",
        "outputId": "fb0669e2-310e-493d-cd43-fd8a1a054268",
        "colab": {
          "base_uri": "https://localhost:8080/",
          "height": 241
        }
      },
      "source": [
        "#For KNN classifier stratified k-folds test, but used the normal split as found better resuts\n",
        "accuracyar = []\n",
        "skf =StratifiedKFold(n_splits = 10,random_state=0)\n",
        "for train_index,test_index in skf.split(x,y):\n",
        "  xtrain,xtest= x[train_index],x[test_index]\n",
        "  ytrain,ytest =y[train_index],y[test_index]\n",
        "  knnclassifier.fit(xtrain,ytrain)\n",
        "  ypred= knnclassifier.predict(xtest)\n",
        "  accuracy = accuracy_score(ytest, ypred)\n",
        "  print(\"the accuracy score using Knn is \",accuracy)\n",
        "  #accuracyar.append(knnprecision)"
      ],
      "execution_count": null,
      "outputs": [
        {
          "output_type": "stream",
          "text": [
            "/usr/local/lib/python3.6/dist-packages/sklearn/model_selection/_split.py:296: FutureWarning: Setting a random_state has no effect since shuffle is False. This will raise an error in 0.24. You should leave random_state to its default (None), or set shuffle=True.\n",
            "  FutureWarning\n"
          ],
          "name": "stderr"
        },
        {
          "output_type": "stream",
          "text": [
            "the accuracy score using Knn is  0.9644537853520354\n",
            "the accuracy score using Knn is  0.9647050760725545\n",
            "the accuracy score using Knn is  0.9645680084068168\n",
            "the accuracy score using Knn is  0.9656637653347955\n",
            "the accuracy score using Knn is  0.9662577387887511\n",
            "the accuracy score using Knn is  0.9642016768327508\n",
            "the accuracy score using Knn is  0.9644301281611952\n",
            "the accuracy score using Knn is  0.9648870308180842\n",
            "the accuracy score using Knn is  0.9642473670984397\n",
            "the accuracy score using Knn is  0.9651383272793731\n"
          ],
          "name": "stdout"
        }
      ]
    },
    {
      "cell_type": "code",
      "metadata": {
        "id": "8rTRke6NvZEF",
        "outputId": "263e0795-b001-43f2-e5ea-12d270bd466b",
        "colab": {
          "base_uri": "https://localhost:8080/",
          "height": 241
        }
      },
      "source": [
        "#For Decision Tree classifier stratified k-folds test, but used the normal split as found better resuts\n",
        "accuracyarr = []\n",
        "skf =StratifiedKFold(n_splits = 10,random_state=0)\n",
        "for train_index,test_index in skf.split(x,y):\n",
        "  xtrain,xtest= x[train_index],x[test_index]\n",
        "  ytrain,ytest =y[train_index],y[test_index]\n",
        "  classifier.fit(xtrain,ytrain)\n",
        "  ypred= classifier.predict(xtest)\n",
        "  accuracy = accuracy_score(ytest, ypred)\n",
        "  print(\"the accuracy score using Decision Tree is \",accuracy)\n",
        "  #accuracyarr.append(accuracy)"
      ],
      "execution_count": null,
      "outputs": [
        {
          "output_type": "stream",
          "text": [
            "/usr/local/lib/python3.6/dist-packages/sklearn/model_selection/_split.py:296: FutureWarning: Setting a random_state has no effect since shuffle is False. This will raise an error in 0.24. You should leave random_state to its default (None), or set shuffle=True.\n",
            "  FutureWarning\n"
          ],
          "name": "stderr"
        },
        {
          "output_type": "stream",
          "text": [
            "the accuracy score using Decision Tree is  0.9464750765294467\n",
            "the accuracy score using Decision Tree is  0.944670352263901\n",
            "the accuracy score using Decision Tree is  0.9468634349157034\n",
            "the accuracy score using Decision Tree is  0.9441436501953259\n",
            "the accuracy score using Decision Tree is  0.9440065793982592\n",
            "the accuracy score using Decision Tree is  0.9425216457633702\n",
            "the accuracy score using Decision Tree is  0.9448975395791926\n",
            "the accuracy score using Decision Tree is  0.9469764466680374\n",
            "the accuracy score using Decision Tree is  0.9430927740844813\n",
            "the accuracy score using Decision Tree is  0.943641057272748\n"
          ],
          "name": "stdout"
        }
      ]
    },
    {
      "cell_type": "code",
      "metadata": {
        "id": "c2jTs82nvZ4u",
        "outputId": "5e86a08d-58d6-4df6-9179-cd4e78d07268",
        "colab": {
          "base_uri": "https://localhost:8080/",
          "height": 445
        }
      },
      "source": [
        "#For Random Forest classifier stratified k-folds test, but used the normal split as found better resuts\n",
        "#have set n_splits to 3 as it takes longer to run\n",
        "accuracyr = []\n",
        "skf =StratifiedKFold(n_splits = 3,random_state=0)\n",
        "for train_index,test_index in skf.split(x,y):\n",
        "  xtrain,xtest= x[train_index],x[test_index]\n",
        "  ytrain,ytest =y[train_index],y[test_index]\n",
        "  randclassifier.fit(xtrain,ytrain)\n",
        "  ypred= randclassifier.predict(xtest)\n",
        "  accuracy = accuracy_score(ytest, ypred)\n",
        "  print(\"the accuracy score using Random Forest is \",accuracy)\n",
        "  #accuracyr.append(accuracy)"
      ],
      "execution_count": null,
      "outputs": [
        {
          "output_type": "stream",
          "text": [
            "/usr/local/lib/python3.6/dist-packages/sklearn/model_selection/_split.py:296: FutureWarning: Setting a random_state has no effect since shuffle is False. This will raise an error in 0.24. You should leave random_state to its default (None), or set shuffle=True.\n",
            "  FutureWarning\n"
          ],
          "name": "stderr"
        },
        {
          "output_type": "stream",
          "text": [
            "the accuracy score using Random Forest is  0.9671490742115664\n"
          ],
          "name": "stdout"
        },
        {
          "output_type": "error",
          "ename": "KeyboardInterrupt",
          "evalue": "ignored",
          "traceback": [
            "\u001b[0;31m---------------------------------------------------------------------------\u001b[0m",
            "\u001b[0;31mKeyboardInterrupt\u001b[0m                         Traceback (most recent call last)",
            "\u001b[0;32m<ipython-input-63-baad4507c0a3>\u001b[0m in \u001b[0;36m<module>\u001b[0;34m()\u001b[0m\n\u001b[1;32m      4\u001b[0m   \u001b[0mxtrain\u001b[0m\u001b[0;34m,\u001b[0m\u001b[0mxtest\u001b[0m\u001b[0;34m=\u001b[0m \u001b[0mx\u001b[0m\u001b[0;34m[\u001b[0m\u001b[0mtrain_index\u001b[0m\u001b[0;34m]\u001b[0m\u001b[0;34m,\u001b[0m\u001b[0mx\u001b[0m\u001b[0;34m[\u001b[0m\u001b[0mtest_index\u001b[0m\u001b[0;34m]\u001b[0m\u001b[0;34m\u001b[0m\u001b[0;34m\u001b[0m\u001b[0m\n\u001b[1;32m      5\u001b[0m   \u001b[0mytrain\u001b[0m\u001b[0;34m,\u001b[0m\u001b[0mytest\u001b[0m \u001b[0;34m=\u001b[0m\u001b[0my\u001b[0m\u001b[0;34m[\u001b[0m\u001b[0mtrain_index\u001b[0m\u001b[0;34m]\u001b[0m\u001b[0;34m,\u001b[0m\u001b[0my\u001b[0m\u001b[0;34m[\u001b[0m\u001b[0mtest_index\u001b[0m\u001b[0;34m]\u001b[0m\u001b[0;34m\u001b[0m\u001b[0;34m\u001b[0m\u001b[0m\n\u001b[0;32m----> 6\u001b[0;31m   \u001b[0mrandclassifier\u001b[0m\u001b[0;34m.\u001b[0m\u001b[0mfit\u001b[0m\u001b[0;34m(\u001b[0m\u001b[0mxtrain\u001b[0m\u001b[0;34m,\u001b[0m\u001b[0mytrain\u001b[0m\u001b[0;34m)\u001b[0m\u001b[0;34m\u001b[0m\u001b[0;34m\u001b[0m\u001b[0m\n\u001b[0m\u001b[1;32m      7\u001b[0m   \u001b[0mypred\u001b[0m\u001b[0;34m=\u001b[0m \u001b[0mrandclassifier\u001b[0m\u001b[0;34m.\u001b[0m\u001b[0mpredict\u001b[0m\u001b[0;34m(\u001b[0m\u001b[0mxtest\u001b[0m\u001b[0;34m)\u001b[0m\u001b[0;34m\u001b[0m\u001b[0;34m\u001b[0m\u001b[0m\n\u001b[1;32m      8\u001b[0m   \u001b[0maccuracy\u001b[0m \u001b[0;34m=\u001b[0m \u001b[0maccuracy_score\u001b[0m\u001b[0;34m(\u001b[0m\u001b[0mytest\u001b[0m\u001b[0;34m,\u001b[0m \u001b[0mypred\u001b[0m\u001b[0;34m)\u001b[0m\u001b[0;34m\u001b[0m\u001b[0;34m\u001b[0m\u001b[0m\n",
            "\u001b[0;32m/usr/local/lib/python3.6/dist-packages/sklearn/ensemble/_forest.py\u001b[0m in \u001b[0;36mfit\u001b[0;34m(self, X, y, sample_weight)\u001b[0m\n\u001b[1;32m    381\u001b[0m                     \u001b[0mverbose\u001b[0m\u001b[0;34m=\u001b[0m\u001b[0mself\u001b[0m\u001b[0;34m.\u001b[0m\u001b[0mverbose\u001b[0m\u001b[0;34m,\u001b[0m \u001b[0mclass_weight\u001b[0m\u001b[0;34m=\u001b[0m\u001b[0mself\u001b[0m\u001b[0;34m.\u001b[0m\u001b[0mclass_weight\u001b[0m\u001b[0;34m,\u001b[0m\u001b[0;34m\u001b[0m\u001b[0;34m\u001b[0m\u001b[0m\n\u001b[1;32m    382\u001b[0m                     n_samples_bootstrap=n_samples_bootstrap)\n\u001b[0;32m--> 383\u001b[0;31m                 for i, t in enumerate(trees))\n\u001b[0m\u001b[1;32m    384\u001b[0m \u001b[0;34m\u001b[0m\u001b[0m\n\u001b[1;32m    385\u001b[0m             \u001b[0;31m# Collect newly grown trees\u001b[0m\u001b[0;34m\u001b[0m\u001b[0;34m\u001b[0m\u001b[0;34m\u001b[0m\u001b[0m\n",
            "\u001b[0;32m/usr/local/lib/python3.6/dist-packages/joblib/parallel.py\u001b[0m in \u001b[0;36m__call__\u001b[0;34m(self, iterable)\u001b[0m\n\u001b[1;32m   1005\u001b[0m                 \u001b[0mself\u001b[0m\u001b[0;34m.\u001b[0m\u001b[0m_iterating\u001b[0m \u001b[0;34m=\u001b[0m \u001b[0mself\u001b[0m\u001b[0;34m.\u001b[0m\u001b[0m_original_iterator\u001b[0m \u001b[0;32mis\u001b[0m \u001b[0;32mnot\u001b[0m \u001b[0;32mNone\u001b[0m\u001b[0;34m\u001b[0m\u001b[0;34m\u001b[0m\u001b[0m\n\u001b[1;32m   1006\u001b[0m \u001b[0;34m\u001b[0m\u001b[0m\n\u001b[0;32m-> 1007\u001b[0;31m             \u001b[0;32mwhile\u001b[0m \u001b[0mself\u001b[0m\u001b[0;34m.\u001b[0m\u001b[0mdispatch_one_batch\u001b[0m\u001b[0;34m(\u001b[0m\u001b[0miterator\u001b[0m\u001b[0;34m)\u001b[0m\u001b[0;34m:\u001b[0m\u001b[0;34m\u001b[0m\u001b[0;34m\u001b[0m\u001b[0m\n\u001b[0m\u001b[1;32m   1008\u001b[0m                 \u001b[0;32mpass\u001b[0m\u001b[0;34m\u001b[0m\u001b[0;34m\u001b[0m\u001b[0m\n\u001b[1;32m   1009\u001b[0m \u001b[0;34m\u001b[0m\u001b[0m\n",
            "\u001b[0;32m/usr/local/lib/python3.6/dist-packages/joblib/parallel.py\u001b[0m in \u001b[0;36mdispatch_one_batch\u001b[0;34m(self, iterator)\u001b[0m\n\u001b[1;32m    833\u001b[0m                 \u001b[0;32mreturn\u001b[0m \u001b[0;32mFalse\u001b[0m\u001b[0;34m\u001b[0m\u001b[0;34m\u001b[0m\u001b[0m\n\u001b[1;32m    834\u001b[0m             \u001b[0;32melse\u001b[0m\u001b[0;34m:\u001b[0m\u001b[0;34m\u001b[0m\u001b[0;34m\u001b[0m\u001b[0m\n\u001b[0;32m--> 835\u001b[0;31m                 \u001b[0mself\u001b[0m\u001b[0;34m.\u001b[0m\u001b[0m_dispatch\u001b[0m\u001b[0;34m(\u001b[0m\u001b[0mtasks\u001b[0m\u001b[0;34m)\u001b[0m\u001b[0;34m\u001b[0m\u001b[0;34m\u001b[0m\u001b[0m\n\u001b[0m\u001b[1;32m    836\u001b[0m                 \u001b[0;32mreturn\u001b[0m \u001b[0;32mTrue\u001b[0m\u001b[0;34m\u001b[0m\u001b[0;34m\u001b[0m\u001b[0m\n\u001b[1;32m    837\u001b[0m \u001b[0;34m\u001b[0m\u001b[0m\n",
            "\u001b[0;32m/usr/local/lib/python3.6/dist-packages/joblib/parallel.py\u001b[0m in \u001b[0;36m_dispatch\u001b[0;34m(self, batch)\u001b[0m\n\u001b[1;32m    752\u001b[0m         \u001b[0;32mwith\u001b[0m \u001b[0mself\u001b[0m\u001b[0;34m.\u001b[0m\u001b[0m_lock\u001b[0m\u001b[0;34m:\u001b[0m\u001b[0;34m\u001b[0m\u001b[0;34m\u001b[0m\u001b[0m\n\u001b[1;32m    753\u001b[0m             \u001b[0mjob_idx\u001b[0m \u001b[0;34m=\u001b[0m \u001b[0mlen\u001b[0m\u001b[0;34m(\u001b[0m\u001b[0mself\u001b[0m\u001b[0;34m.\u001b[0m\u001b[0m_jobs\u001b[0m\u001b[0;34m)\u001b[0m\u001b[0;34m\u001b[0m\u001b[0;34m\u001b[0m\u001b[0m\n\u001b[0;32m--> 754\u001b[0;31m             \u001b[0mjob\u001b[0m \u001b[0;34m=\u001b[0m \u001b[0mself\u001b[0m\u001b[0;34m.\u001b[0m\u001b[0m_backend\u001b[0m\u001b[0;34m.\u001b[0m\u001b[0mapply_async\u001b[0m\u001b[0;34m(\u001b[0m\u001b[0mbatch\u001b[0m\u001b[0;34m,\u001b[0m \u001b[0mcallback\u001b[0m\u001b[0;34m=\u001b[0m\u001b[0mcb\u001b[0m\u001b[0;34m)\u001b[0m\u001b[0;34m\u001b[0m\u001b[0;34m\u001b[0m\u001b[0m\n\u001b[0m\u001b[1;32m    755\u001b[0m             \u001b[0;31m# A job can complete so quickly than its callback is\u001b[0m\u001b[0;34m\u001b[0m\u001b[0;34m\u001b[0m\u001b[0;34m\u001b[0m\u001b[0m\n\u001b[1;32m    756\u001b[0m             \u001b[0;31m# called before we get here, causing self._jobs to\u001b[0m\u001b[0;34m\u001b[0m\u001b[0;34m\u001b[0m\u001b[0;34m\u001b[0m\u001b[0m\n",
            "\u001b[0;32m/usr/local/lib/python3.6/dist-packages/joblib/_parallel_backends.py\u001b[0m in \u001b[0;36mapply_async\u001b[0;34m(self, func, callback)\u001b[0m\n\u001b[1;32m    207\u001b[0m     \u001b[0;32mdef\u001b[0m \u001b[0mapply_async\u001b[0m\u001b[0;34m(\u001b[0m\u001b[0mself\u001b[0m\u001b[0;34m,\u001b[0m \u001b[0mfunc\u001b[0m\u001b[0;34m,\u001b[0m \u001b[0mcallback\u001b[0m\u001b[0;34m=\u001b[0m\u001b[0;32mNone\u001b[0m\u001b[0;34m)\u001b[0m\u001b[0;34m:\u001b[0m\u001b[0;34m\u001b[0m\u001b[0;34m\u001b[0m\u001b[0m\n\u001b[1;32m    208\u001b[0m         \u001b[0;34m\"\"\"Schedule a func to be run\"\"\"\u001b[0m\u001b[0;34m\u001b[0m\u001b[0;34m\u001b[0m\u001b[0m\n\u001b[0;32m--> 209\u001b[0;31m         \u001b[0mresult\u001b[0m \u001b[0;34m=\u001b[0m \u001b[0mImmediateResult\u001b[0m\u001b[0;34m(\u001b[0m\u001b[0mfunc\u001b[0m\u001b[0;34m)\u001b[0m\u001b[0;34m\u001b[0m\u001b[0;34m\u001b[0m\u001b[0m\n\u001b[0m\u001b[1;32m    210\u001b[0m         \u001b[0;32mif\u001b[0m \u001b[0mcallback\u001b[0m\u001b[0;34m:\u001b[0m\u001b[0;34m\u001b[0m\u001b[0;34m\u001b[0m\u001b[0m\n\u001b[1;32m    211\u001b[0m             \u001b[0mcallback\u001b[0m\u001b[0;34m(\u001b[0m\u001b[0mresult\u001b[0m\u001b[0;34m)\u001b[0m\u001b[0;34m\u001b[0m\u001b[0;34m\u001b[0m\u001b[0m\n",
            "\u001b[0;32m/usr/local/lib/python3.6/dist-packages/joblib/_parallel_backends.py\u001b[0m in \u001b[0;36m__init__\u001b[0;34m(self, batch)\u001b[0m\n\u001b[1;32m    588\u001b[0m         \u001b[0;31m# Don't delay the application, to avoid keeping the input\u001b[0m\u001b[0;34m\u001b[0m\u001b[0;34m\u001b[0m\u001b[0;34m\u001b[0m\u001b[0m\n\u001b[1;32m    589\u001b[0m         \u001b[0;31m# arguments in memory\u001b[0m\u001b[0;34m\u001b[0m\u001b[0;34m\u001b[0m\u001b[0;34m\u001b[0m\u001b[0m\n\u001b[0;32m--> 590\u001b[0;31m         \u001b[0mself\u001b[0m\u001b[0;34m.\u001b[0m\u001b[0mresults\u001b[0m \u001b[0;34m=\u001b[0m \u001b[0mbatch\u001b[0m\u001b[0;34m(\u001b[0m\u001b[0;34m)\u001b[0m\u001b[0;34m\u001b[0m\u001b[0;34m\u001b[0m\u001b[0m\n\u001b[0m\u001b[1;32m    591\u001b[0m \u001b[0;34m\u001b[0m\u001b[0m\n\u001b[1;32m    592\u001b[0m     \u001b[0;32mdef\u001b[0m \u001b[0mget\u001b[0m\u001b[0;34m(\u001b[0m\u001b[0mself\u001b[0m\u001b[0;34m)\u001b[0m\u001b[0;34m:\u001b[0m\u001b[0;34m\u001b[0m\u001b[0;34m\u001b[0m\u001b[0m\n",
            "\u001b[0;32m/usr/local/lib/python3.6/dist-packages/joblib/parallel.py\u001b[0m in \u001b[0;36m__call__\u001b[0;34m(self)\u001b[0m\n\u001b[1;32m    254\u001b[0m         \u001b[0;32mwith\u001b[0m \u001b[0mparallel_backend\u001b[0m\u001b[0;34m(\u001b[0m\u001b[0mself\u001b[0m\u001b[0;34m.\u001b[0m\u001b[0m_backend\u001b[0m\u001b[0;34m,\u001b[0m \u001b[0mn_jobs\u001b[0m\u001b[0;34m=\u001b[0m\u001b[0mself\u001b[0m\u001b[0;34m.\u001b[0m\u001b[0m_n_jobs\u001b[0m\u001b[0;34m)\u001b[0m\u001b[0;34m:\u001b[0m\u001b[0;34m\u001b[0m\u001b[0;34m\u001b[0m\u001b[0m\n\u001b[1;32m    255\u001b[0m             return [func(*args, **kwargs)\n\u001b[0;32m--> 256\u001b[0;31m                     for func, args, kwargs in self.items]\n\u001b[0m\u001b[1;32m    257\u001b[0m \u001b[0;34m\u001b[0m\u001b[0m\n\u001b[1;32m    258\u001b[0m     \u001b[0;32mdef\u001b[0m \u001b[0m__len__\u001b[0m\u001b[0;34m(\u001b[0m\u001b[0mself\u001b[0m\u001b[0;34m)\u001b[0m\u001b[0;34m:\u001b[0m\u001b[0;34m\u001b[0m\u001b[0;34m\u001b[0m\u001b[0m\n",
            "\u001b[0;32m/usr/local/lib/python3.6/dist-packages/joblib/parallel.py\u001b[0m in \u001b[0;36m<listcomp>\u001b[0;34m(.0)\u001b[0m\n\u001b[1;32m    254\u001b[0m         \u001b[0;32mwith\u001b[0m \u001b[0mparallel_backend\u001b[0m\u001b[0;34m(\u001b[0m\u001b[0mself\u001b[0m\u001b[0;34m.\u001b[0m\u001b[0m_backend\u001b[0m\u001b[0;34m,\u001b[0m \u001b[0mn_jobs\u001b[0m\u001b[0;34m=\u001b[0m\u001b[0mself\u001b[0m\u001b[0;34m.\u001b[0m\u001b[0m_n_jobs\u001b[0m\u001b[0;34m)\u001b[0m\u001b[0;34m:\u001b[0m\u001b[0;34m\u001b[0m\u001b[0;34m\u001b[0m\u001b[0m\n\u001b[1;32m    255\u001b[0m             return [func(*args, **kwargs)\n\u001b[0;32m--> 256\u001b[0;31m                     for func, args, kwargs in self.items]\n\u001b[0m\u001b[1;32m    257\u001b[0m \u001b[0;34m\u001b[0m\u001b[0m\n\u001b[1;32m    258\u001b[0m     \u001b[0;32mdef\u001b[0m \u001b[0m__len__\u001b[0m\u001b[0;34m(\u001b[0m\u001b[0mself\u001b[0m\u001b[0;34m)\u001b[0m\u001b[0;34m:\u001b[0m\u001b[0;34m\u001b[0m\u001b[0;34m\u001b[0m\u001b[0m\n",
            "\u001b[0;32m/usr/local/lib/python3.6/dist-packages/sklearn/ensemble/_forest.py\u001b[0m in \u001b[0;36m_parallel_build_trees\u001b[0;34m(tree, forest, X, y, sample_weight, tree_idx, n_trees, verbose, class_weight, n_samples_bootstrap)\u001b[0m\n\u001b[1;32m    163\u001b[0m             \u001b[0mcurr_sample_weight\u001b[0m \u001b[0;34m*=\u001b[0m \u001b[0mcompute_sample_weight\u001b[0m\u001b[0;34m(\u001b[0m\u001b[0;34m'balanced'\u001b[0m\u001b[0;34m,\u001b[0m \u001b[0my\u001b[0m\u001b[0;34m,\u001b[0m \u001b[0mindices\u001b[0m\u001b[0;34m)\u001b[0m\u001b[0;34m\u001b[0m\u001b[0;34m\u001b[0m\u001b[0m\n\u001b[1;32m    164\u001b[0m \u001b[0;34m\u001b[0m\u001b[0m\n\u001b[0;32m--> 165\u001b[0;31m         \u001b[0mtree\u001b[0m\u001b[0;34m.\u001b[0m\u001b[0mfit\u001b[0m\u001b[0;34m(\u001b[0m\u001b[0mX\u001b[0m\u001b[0;34m,\u001b[0m \u001b[0my\u001b[0m\u001b[0;34m,\u001b[0m \u001b[0msample_weight\u001b[0m\u001b[0;34m=\u001b[0m\u001b[0mcurr_sample_weight\u001b[0m\u001b[0;34m,\u001b[0m \u001b[0mcheck_input\u001b[0m\u001b[0;34m=\u001b[0m\u001b[0;32mFalse\u001b[0m\u001b[0;34m)\u001b[0m\u001b[0;34m\u001b[0m\u001b[0;34m\u001b[0m\u001b[0m\n\u001b[0m\u001b[1;32m    166\u001b[0m     \u001b[0;32melse\u001b[0m\u001b[0;34m:\u001b[0m\u001b[0;34m\u001b[0m\u001b[0;34m\u001b[0m\u001b[0m\n\u001b[1;32m    167\u001b[0m         \u001b[0mtree\u001b[0m\u001b[0;34m.\u001b[0m\u001b[0mfit\u001b[0m\u001b[0;34m(\u001b[0m\u001b[0mX\u001b[0m\u001b[0;34m,\u001b[0m \u001b[0my\u001b[0m\u001b[0;34m,\u001b[0m \u001b[0msample_weight\u001b[0m\u001b[0;34m=\u001b[0m\u001b[0msample_weight\u001b[0m\u001b[0;34m,\u001b[0m \u001b[0mcheck_input\u001b[0m\u001b[0;34m=\u001b[0m\u001b[0;32mFalse\u001b[0m\u001b[0;34m)\u001b[0m\u001b[0;34m\u001b[0m\u001b[0;34m\u001b[0m\u001b[0m\n",
            "\u001b[0;32m/usr/local/lib/python3.6/dist-packages/sklearn/tree/_classes.py\u001b[0m in \u001b[0;36mfit\u001b[0;34m(self, X, y, sample_weight, check_input, X_idx_sorted)\u001b[0m\n\u001b[1;32m    875\u001b[0m             \u001b[0msample_weight\u001b[0m\u001b[0;34m=\u001b[0m\u001b[0msample_weight\u001b[0m\u001b[0;34m,\u001b[0m\u001b[0;34m\u001b[0m\u001b[0;34m\u001b[0m\u001b[0m\n\u001b[1;32m    876\u001b[0m             \u001b[0mcheck_input\u001b[0m\u001b[0;34m=\u001b[0m\u001b[0mcheck_input\u001b[0m\u001b[0;34m,\u001b[0m\u001b[0;34m\u001b[0m\u001b[0;34m\u001b[0m\u001b[0m\n\u001b[0;32m--> 877\u001b[0;31m             X_idx_sorted=X_idx_sorted)\n\u001b[0m\u001b[1;32m    878\u001b[0m         \u001b[0;32mreturn\u001b[0m \u001b[0mself\u001b[0m\u001b[0;34m\u001b[0m\u001b[0;34m\u001b[0m\u001b[0m\n\u001b[1;32m    879\u001b[0m \u001b[0;34m\u001b[0m\u001b[0m\n",
            "\u001b[0;32m/usr/local/lib/python3.6/dist-packages/sklearn/tree/_classes.py\u001b[0m in \u001b[0;36mfit\u001b[0;34m(self, X, y, sample_weight, check_input, X_idx_sorted)\u001b[0m\n\u001b[1;32m    365\u001b[0m                                            min_impurity_split)\n\u001b[1;32m    366\u001b[0m \u001b[0;34m\u001b[0m\u001b[0m\n\u001b[0;32m--> 367\u001b[0;31m         \u001b[0mbuilder\u001b[0m\u001b[0;34m.\u001b[0m\u001b[0mbuild\u001b[0m\u001b[0;34m(\u001b[0m\u001b[0mself\u001b[0m\u001b[0;34m.\u001b[0m\u001b[0mtree_\u001b[0m\u001b[0;34m,\u001b[0m \u001b[0mX\u001b[0m\u001b[0;34m,\u001b[0m \u001b[0my\u001b[0m\u001b[0;34m,\u001b[0m \u001b[0msample_weight\u001b[0m\u001b[0;34m,\u001b[0m \u001b[0mX_idx_sorted\u001b[0m\u001b[0;34m)\u001b[0m\u001b[0;34m\u001b[0m\u001b[0;34m\u001b[0m\u001b[0m\n\u001b[0m\u001b[1;32m    368\u001b[0m \u001b[0;34m\u001b[0m\u001b[0m\n\u001b[1;32m    369\u001b[0m         \u001b[0;32mif\u001b[0m \u001b[0mself\u001b[0m\u001b[0;34m.\u001b[0m\u001b[0mn_outputs_\u001b[0m \u001b[0;34m==\u001b[0m \u001b[0;36m1\u001b[0m \u001b[0;32mand\u001b[0m \u001b[0mis_classifier\u001b[0m\u001b[0;34m(\u001b[0m\u001b[0mself\u001b[0m\u001b[0;34m)\u001b[0m\u001b[0;34m:\u001b[0m\u001b[0;34m\u001b[0m\u001b[0;34m\u001b[0m\u001b[0m\n",
            "\u001b[0;31mKeyboardInterrupt\u001b[0m: "
          ]
        }
      ]
    }
  ]
}